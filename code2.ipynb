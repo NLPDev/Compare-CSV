{
 "cells": [
  {
   "cell_type": "code",
   "execution_count": null,
   "metadata": {},
   "outputs": [],
   "source": [
    "%load_ext autoreload\n",
    "%autoreload 2\n",
    "import numpy as np\n",
    "import pandas as pd\n",
    "\n",
    "import evil_transform\n",
    "from utils import load_sample, check_transform, check_vanilla_better_et, plot_gps\n",
    "import time"
   ]
  },
  {
   "cell_type": "code",
   "execution_count": null,
   "metadata": {},
   "outputs": [],
   "source": [
    "def better_et(sample_df):\n",
    "    \"\"\"\n",
    "    TODO:\n",
    "    Please copy and paste your implementation of better_et() from code1 here\n",
    "    \"\"\"\n",
    "    \n",
    "    return"
   ]
  },
  {
   "cell_type": "code",
   "execution_count": null,
   "metadata": {},
   "outputs": [],
   "source": [
    "trips_df = load_sample('data/xian/gps_20161013', nrows = None)\n",
    "# WGS-84 coords for the boundary of the area of interest\n",
    "p1 = (34.241, 108.943)\n",
    "p2 = (34.241, 108.9415)\n",
    "p3 = (34.234, 108.9415)\n",
    "p4 = (34.234, 108.943)\n",
    "print('trip file has shape:', sample.shape)"
   ]
  },
  {
   "cell_type": "code",
   "execution_count": null,
   "metadata": {},
   "outputs": [],
   "source": [
    "trips_df_et = better_et(trips_df)"
   ]
  },
  {
   "cell_type": "markdown",
   "metadata": {},
   "source": [
    "### Task 1.3: Crop region of interest"
   ]
  },
  {
   "cell_type": "code",
   "execution_count": null,
   "metadata": {},
   "outputs": [],
   "source": [
    "def crop_region(sample_df, p1, p2, p3, p4):\n",
    "    \"\"\"\n",
    "    TODO:\n",
    "    Inputs:\n",
    "        sample_df: A Pandas dataframe with transformed WGS coordinates\n",
    "        p1, p2, p3, p4: WGS-84 coordinates of the boundaries of area of interest\n",
    "    Output:\n",
    "        sample_df_out: a Pandas dataframe with only rows that falls into the area of interest\n",
    "    \"\"\"\n",
    "    \n",
    "    return sample_df_out"
   ]
  },
  {
   "cell_type": "code",
   "execution_count": null,
   "metadata": {},
   "outputs": [],
   "source": [
    "# crop the trips dataset and visualize the trips. If your implementation is correct you will see several parallel curves.\n",
    "crop_trips_df_et = crop_region(trips_df_et, p1, p2, p3, p4)\n",
    "plot_gps(crop_trips_df_et)"
   ]
  },
  {
   "cell_type": "markdown",
   "metadata": {},
   "source": [
    "### Task 1.4: Add Local Times"
   ]
  },
  {
   "cell_type": "code",
   "execution_count": null,
   "metadata": {},
   "outputs": [],
   "source": [
    "def add_local_time(crop_trips_df_et):\n",
    "    crop_trips_df = crop_trips_df_et.copy()\n",
    "    crop_trips_df = crop_trips_df.append({'driver_id' : 'test_bed', \n",
    "                                          'order_id' : 'test_bed',\n",
    "                                          'time': 1458000000,\n",
    "                                          'lon': 0.,\n",
    "                                          'lat': 0.,\n",
    "                                          'lon_wgs': 0.,\n",
    "                                          'lat_wgs':0.} , ignore_index=True)\n",
    "    \"\"\"\n",
    "    TODO:\n",
    "    Input:\n",
    "        crop_trips_df_et: the output from the function crop_region(), which should be a Pandas dataframe.\n",
    "        \n",
    "    Output:\n",
    "        The output should also be a dataframe, but with ONE additional columns -- local time -- which converts \n",
    "        the epoch time (column \"time\") to Beijing Time (UTC+8)\n",
    "    HINT:\n",
    "        use Pandas pd.to_datetime() and pd.Timedelta() functions.\n",
    "    \"\"\"\n",
    "    \n",
    "    return "
   ]
  },
  {
   "cell_type": "code",
   "execution_count": null,
   "metadata": {},
   "outputs": [],
   "source": [
    "final_crop_df = add_local_time(crop_trips_df_et)"
   ]
  },
  {
   "cell_type": "code",
   "execution_count": null,
   "metadata": {},
   "outputs": [],
   "source": [
    "# Run this block and attach the results to your writeups\n",
    "print(final_crop_df.iloc[-1])"
   ]
  }
 ],
 "metadata": {
  "kernelspec": {
   "display_name": "Python 3",
   "language": "python",
   "name": "python3"
  },
  "language_info": {
   "codemirror_mode": {
    "name": "ipython",
    "version": 3
   },
   "file_extension": ".py",
   "mimetype": "text/x-python",
   "name": "python",
   "nbconvert_exporter": "python",
   "pygments_lexer": "ipython3",
   "version": "3.6.5"
  }
 },
 "nbformat": 4,
 "nbformat_minor": 2
}
